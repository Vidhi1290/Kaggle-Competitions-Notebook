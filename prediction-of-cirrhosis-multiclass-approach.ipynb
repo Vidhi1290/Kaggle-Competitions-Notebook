{
 "cells": [
  {
   "cell_type": "markdown",
   "id": "33f9a53a",
   "metadata": {
    "papermill": {
     "duration": 0.00856,
     "end_time": "2023-12-06T12:01:37.706215",
     "exception": false,
     "start_time": "2023-12-06T12:01:37.697655",
     "status": "completed"
    },
    "tags": []
   },
   "source": [
    "# Multi-class prediction model for cirrhosis outcomes:"
   ]
  },
  {
   "cell_type": "markdown",
   "id": "4c6db7f0",
   "metadata": {
    "papermill": {
     "duration": 0.007787,
     "end_time": "2023-12-06T12:01:37.721987",
     "exception": false,
     "start_time": "2023-12-06T12:01:37.714200",
     "status": "completed"
    },
    "tags": []
   },
   "source": [
    "### Import Necessary Libraries:\n",
    "\n",
    "Here, we import essential libraries for data manipulation, model training, and evaluation."
   ]
  },
  {
   "cell_type": "code",
   "execution_count": 1,
   "id": "84f4307c",
   "metadata": {
    "execution": {
     "iopub.execute_input": "2023-12-06T12:01:37.739581Z",
     "iopub.status.busy": "2023-12-06T12:01:37.738776Z",
     "iopub.status.idle": "2023-12-06T12:01:39.806439Z",
     "shell.execute_reply": "2023-12-06T12:01:39.805585Z"
    },
    "papermill": {
     "duration": 2.079212,
     "end_time": "2023-12-06T12:01:39.808944",
     "exception": false,
     "start_time": "2023-12-06T12:01:37.729732",
     "status": "completed"
    },
    "tags": []
   },
   "outputs": [
    {
     "name": "stderr",
     "output_type": "stream",
     "text": [
      "/opt/conda/lib/python3.10/site-packages/scipy/__init__.py:146: UserWarning: A NumPy version >=1.16.5 and <1.23.0 is required for this version of SciPy (detected version 1.24.3\n",
      "  warnings.warn(f\"A NumPy version >={np_minversion} and <{np_maxversion}\"\n"
     ]
    }
   ],
   "source": [
    "#Importing the necessary libraries:\n",
    "import numpy as np\n",
    "import pandas as pd\n",
    "\n",
    "from sklearn.model_selection import train_test_split\n",
    "from sklearn.ensemble import RandomForestClassifier\n",
    "from sklearn.metrics import log_loss"
   ]
  },
  {
   "cell_type": "markdown",
   "id": "68bd01da",
   "metadata": {
    "papermill": {
     "duration": 0.007831,
     "end_time": "2023-12-06T12:01:39.824886",
     "exception": false,
     "start_time": "2023-12-06T12:01:39.817055",
     "status": "completed"
    },
    "tags": []
   },
   "source": [
    "### Loading the dataset and exploring it the same time:\n",
    "\n",
    "We load the training and test datasets from Kaggle, which contain information about patients with cirrhosis."
   ]
  },
  {
   "cell_type": "code",
   "execution_count": 2,
   "id": "481d994b",
   "metadata": {
    "execution": {
     "iopub.execute_input": "2023-12-06T12:01:39.842194Z",
     "iopub.status.busy": "2023-12-06T12:01:39.841558Z",
     "iopub.status.idle": "2023-12-06T12:01:39.977254Z",
     "shell.execute_reply": "2023-12-06T12:01:39.976320Z"
    },
    "papermill": {
     "duration": 0.147144,
     "end_time": "2023-12-06T12:01:39.979460",
     "exception": false,
     "start_time": "2023-12-06T12:01:39.832316",
     "status": "completed"
    },
    "tags": []
   },
   "outputs": [],
   "source": [
    "#Loading the datasets:\n",
    "train_df = pd.read_csv('/kaggle/input/playground-series-s3e26/train.csv')\n",
    "test_df = pd.read_csv('/kaggle/input/playground-series-s3e26/test.csv')"
   ]
  },
  {
   "cell_type": "code",
   "execution_count": 3,
   "id": "10cc7a39",
   "metadata": {
    "execution": {
     "iopub.execute_input": "2023-12-06T12:01:39.995756Z",
     "iopub.status.busy": "2023-12-06T12:01:39.995486Z",
     "iopub.status.idle": "2023-12-06T12:01:40.003405Z",
     "shell.execute_reply": "2023-12-06T12:01:40.002539Z"
    },
    "papermill": {
     "duration": 0.018075,
     "end_time": "2023-12-06T12:01:40.005246",
     "exception": false,
     "start_time": "2023-12-06T12:01:39.987171",
     "status": "completed"
    },
    "tags": []
   },
   "outputs": [
    {
     "data": {
      "text/plain": [
       "Index(['id', 'N_Days', 'Drug', 'Age', 'Sex', 'Ascites', 'Hepatomegaly',\n",
       "       'Spiders', 'Edema', 'Bilirubin', 'Cholesterol', 'Albumin', 'Copper',\n",
       "       'Alk_Phos', 'SGOT', 'Tryglicerides', 'Platelets', 'Prothrombin',\n",
       "       'Stage', 'Status'],\n",
       "      dtype='object')"
      ]
     },
     "execution_count": 3,
     "metadata": {},
     "output_type": "execute_result"
    }
   ],
   "source": [
    "train_df.columns"
   ]
  },
  {
   "cell_type": "code",
   "execution_count": 4,
   "id": "ea8fc012",
   "metadata": {
    "execution": {
     "iopub.execute_input": "2023-12-06T12:01:40.021356Z",
     "iopub.status.busy": "2023-12-06T12:01:40.021066Z",
     "iopub.status.idle": "2023-12-06T12:01:40.026640Z",
     "shell.execute_reply": "2023-12-06T12:01:40.025618Z"
    },
    "papermill": {
     "duration": 0.01582,
     "end_time": "2023-12-06T12:01:40.028557",
     "exception": false,
     "start_time": "2023-12-06T12:01:40.012737",
     "status": "completed"
    },
    "tags": []
   },
   "outputs": [
    {
     "data": {
      "text/plain": [
       "Index(['id', 'N_Days', 'Drug', 'Age', 'Sex', 'Ascites', 'Hepatomegaly',\n",
       "       'Spiders', 'Edema', 'Bilirubin', 'Cholesterol', 'Albumin', 'Copper',\n",
       "       'Alk_Phos', 'SGOT', 'Tryglicerides', 'Platelets', 'Prothrombin',\n",
       "       'Stage'],\n",
       "      dtype='object')"
      ]
     },
     "execution_count": 4,
     "metadata": {},
     "output_type": "execute_result"
    }
   ],
   "source": [
    "test_df.columns"
   ]
  },
  {
   "cell_type": "code",
   "execution_count": 5,
   "id": "ee54e3d5",
   "metadata": {
    "execution": {
     "iopub.execute_input": "2023-12-06T12:01:40.044952Z",
     "iopub.status.busy": "2023-12-06T12:01:40.044691Z",
     "iopub.status.idle": "2023-12-06T12:01:40.076175Z",
     "shell.execute_reply": "2023-12-06T12:01:40.075019Z"
    },
    "papermill": {
     "duration": 0.041942,
     "end_time": "2023-12-06T12:01:40.078153",
     "exception": false,
     "start_time": "2023-12-06T12:01:40.036211",
     "status": "completed"
    },
    "tags": []
   },
   "outputs": [
    {
     "name": "stdout",
     "output_type": "stream",
     "text": [
      "<class 'pandas.core.frame.DataFrame'>\n",
      "RangeIndex: 7905 entries, 0 to 7904\n",
      "Data columns (total 20 columns):\n",
      " #   Column         Non-Null Count  Dtype  \n",
      "---  ------         --------------  -----  \n",
      " 0   id             7905 non-null   int64  \n",
      " 1   N_Days         7905 non-null   int64  \n",
      " 2   Drug           7905 non-null   object \n",
      " 3   Age            7905 non-null   int64  \n",
      " 4   Sex            7905 non-null   object \n",
      " 5   Ascites        7905 non-null   object \n",
      " 6   Hepatomegaly   7905 non-null   object \n",
      " 7   Spiders        7905 non-null   object \n",
      " 8   Edema          7905 non-null   object \n",
      " 9   Bilirubin      7905 non-null   float64\n",
      " 10  Cholesterol    7905 non-null   float64\n",
      " 11  Albumin        7905 non-null   float64\n",
      " 12  Copper         7905 non-null   float64\n",
      " 13  Alk_Phos       7905 non-null   float64\n",
      " 14  SGOT           7905 non-null   float64\n",
      " 15  Tryglicerides  7905 non-null   float64\n",
      " 16  Platelets      7905 non-null   float64\n",
      " 17  Prothrombin    7905 non-null   float64\n",
      " 18  Stage          7905 non-null   float64\n",
      " 19  Status         7905 non-null   object \n",
      "dtypes: float64(10), int64(3), object(7)\n",
      "memory usage: 1.2+ MB\n"
     ]
    }
   ],
   "source": [
    "train_df.info()"
   ]
  },
  {
   "cell_type": "code",
   "execution_count": 6,
   "id": "9cdf9449",
   "metadata": {
    "execution": {
     "iopub.execute_input": "2023-12-06T12:01:40.094876Z",
     "iopub.status.busy": "2023-12-06T12:01:40.094602Z",
     "iopub.status.idle": "2023-12-06T12:01:40.116990Z",
     "shell.execute_reply": "2023-12-06T12:01:40.116150Z"
    },
    "papermill": {
     "duration": 0.032919,
     "end_time": "2023-12-06T12:01:40.118912",
     "exception": false,
     "start_time": "2023-12-06T12:01:40.085993",
     "status": "completed"
    },
    "tags": []
   },
   "outputs": [
    {
     "data": {
      "text/html": [
       "<div>\n",
       "<style scoped>\n",
       "    .dataframe tbody tr th:only-of-type {\n",
       "        vertical-align: middle;\n",
       "    }\n",
       "\n",
       "    .dataframe tbody tr th {\n",
       "        vertical-align: top;\n",
       "    }\n",
       "\n",
       "    .dataframe thead th {\n",
       "        text-align: right;\n",
       "    }\n",
       "</style>\n",
       "<table border=\"1\" class=\"dataframe\">\n",
       "  <thead>\n",
       "    <tr style=\"text-align: right;\">\n",
       "      <th></th>\n",
       "      <th>id</th>\n",
       "      <th>N_Days</th>\n",
       "      <th>Drug</th>\n",
       "      <th>Age</th>\n",
       "      <th>Sex</th>\n",
       "      <th>Ascites</th>\n",
       "      <th>Hepatomegaly</th>\n",
       "      <th>Spiders</th>\n",
       "      <th>Edema</th>\n",
       "      <th>Bilirubin</th>\n",
       "      <th>Cholesterol</th>\n",
       "      <th>Albumin</th>\n",
       "      <th>Copper</th>\n",
       "      <th>Alk_Phos</th>\n",
       "      <th>SGOT</th>\n",
       "      <th>Tryglicerides</th>\n",
       "      <th>Platelets</th>\n",
       "      <th>Prothrombin</th>\n",
       "      <th>Stage</th>\n",
       "      <th>Status</th>\n",
       "    </tr>\n",
       "  </thead>\n",
       "  <tbody>\n",
       "    <tr>\n",
       "      <th>0</th>\n",
       "      <td>0</td>\n",
       "      <td>999</td>\n",
       "      <td>D-penicillamine</td>\n",
       "      <td>21532</td>\n",
       "      <td>M</td>\n",
       "      <td>N</td>\n",
       "      <td>N</td>\n",
       "      <td>N</td>\n",
       "      <td>N</td>\n",
       "      <td>2.3</td>\n",
       "      <td>316.0</td>\n",
       "      <td>3.35</td>\n",
       "      <td>172.0</td>\n",
       "      <td>1601.0</td>\n",
       "      <td>179.80</td>\n",
       "      <td>63.0</td>\n",
       "      <td>394.0</td>\n",
       "      <td>9.7</td>\n",
       "      <td>3.0</td>\n",
       "      <td>D</td>\n",
       "    </tr>\n",
       "    <tr>\n",
       "      <th>1</th>\n",
       "      <td>1</td>\n",
       "      <td>2574</td>\n",
       "      <td>Placebo</td>\n",
       "      <td>19237</td>\n",
       "      <td>F</td>\n",
       "      <td>N</td>\n",
       "      <td>N</td>\n",
       "      <td>N</td>\n",
       "      <td>N</td>\n",
       "      <td>0.9</td>\n",
       "      <td>364.0</td>\n",
       "      <td>3.54</td>\n",
       "      <td>63.0</td>\n",
       "      <td>1440.0</td>\n",
       "      <td>134.85</td>\n",
       "      <td>88.0</td>\n",
       "      <td>361.0</td>\n",
       "      <td>11.0</td>\n",
       "      <td>3.0</td>\n",
       "      <td>C</td>\n",
       "    </tr>\n",
       "    <tr>\n",
       "      <th>2</th>\n",
       "      <td>2</td>\n",
       "      <td>3428</td>\n",
       "      <td>Placebo</td>\n",
       "      <td>13727</td>\n",
       "      <td>F</td>\n",
       "      <td>N</td>\n",
       "      <td>Y</td>\n",
       "      <td>Y</td>\n",
       "      <td>Y</td>\n",
       "      <td>3.3</td>\n",
       "      <td>299.0</td>\n",
       "      <td>3.55</td>\n",
       "      <td>131.0</td>\n",
       "      <td>1029.0</td>\n",
       "      <td>119.35</td>\n",
       "      <td>50.0</td>\n",
       "      <td>199.0</td>\n",
       "      <td>11.7</td>\n",
       "      <td>4.0</td>\n",
       "      <td>D</td>\n",
       "    </tr>\n",
       "  </tbody>\n",
       "</table>\n",
       "</div>"
      ],
      "text/plain": [
       "   id  N_Days             Drug    Age Sex Ascites Hepatomegaly Spiders Edema  \\\n",
       "0   0     999  D-penicillamine  21532   M       N            N       N     N   \n",
       "1   1    2574          Placebo  19237   F       N            N       N     N   \n",
       "2   2    3428          Placebo  13727   F       N            Y       Y     Y   \n",
       "\n",
       "   Bilirubin  Cholesterol  Albumin  Copper  Alk_Phos    SGOT  Tryglicerides  \\\n",
       "0        2.3        316.0     3.35   172.0    1601.0  179.80           63.0   \n",
       "1        0.9        364.0     3.54    63.0    1440.0  134.85           88.0   \n",
       "2        3.3        299.0     3.55   131.0    1029.0  119.35           50.0   \n",
       "\n",
       "   Platelets  Prothrombin  Stage Status  \n",
       "0      394.0          9.7    3.0      D  \n",
       "1      361.0         11.0    3.0      C  \n",
       "2      199.0         11.7    4.0      D  "
      ]
     },
     "execution_count": 6,
     "metadata": {},
     "output_type": "execute_result"
    }
   ],
   "source": [
    "train_df.head(3)"
   ]
  },
  {
   "cell_type": "code",
   "execution_count": 7,
   "id": "6ff7e55b",
   "metadata": {
    "execution": {
     "iopub.execute_input": "2023-12-06T12:01:40.135917Z",
     "iopub.status.busy": "2023-12-06T12:01:40.135627Z",
     "iopub.status.idle": "2023-12-06T12:01:40.155224Z",
     "shell.execute_reply": "2023-12-06T12:01:40.154401Z"
    },
    "papermill": {
     "duration": 0.030084,
     "end_time": "2023-12-06T12:01:40.157046",
     "exception": false,
     "start_time": "2023-12-06T12:01:40.126962",
     "status": "completed"
    },
    "tags": []
   },
   "outputs": [
    {
     "data": {
      "text/html": [
       "<div>\n",
       "<style scoped>\n",
       "    .dataframe tbody tr th:only-of-type {\n",
       "        vertical-align: middle;\n",
       "    }\n",
       "\n",
       "    .dataframe tbody tr th {\n",
       "        vertical-align: top;\n",
       "    }\n",
       "\n",
       "    .dataframe thead th {\n",
       "        text-align: right;\n",
       "    }\n",
       "</style>\n",
       "<table border=\"1\" class=\"dataframe\">\n",
       "  <thead>\n",
       "    <tr style=\"text-align: right;\">\n",
       "      <th></th>\n",
       "      <th>id</th>\n",
       "      <th>N_Days</th>\n",
       "      <th>Drug</th>\n",
       "      <th>Age</th>\n",
       "      <th>Sex</th>\n",
       "      <th>Ascites</th>\n",
       "      <th>Hepatomegaly</th>\n",
       "      <th>Spiders</th>\n",
       "      <th>Edema</th>\n",
       "      <th>Bilirubin</th>\n",
       "      <th>Cholesterol</th>\n",
       "      <th>Albumin</th>\n",
       "      <th>Copper</th>\n",
       "      <th>Alk_Phos</th>\n",
       "      <th>SGOT</th>\n",
       "      <th>Tryglicerides</th>\n",
       "      <th>Platelets</th>\n",
       "      <th>Prothrombin</th>\n",
       "      <th>Stage</th>\n",
       "      <th>Status</th>\n",
       "    </tr>\n",
       "  </thead>\n",
       "  <tbody>\n",
       "    <tr>\n",
       "      <th>7902</th>\n",
       "      <td>7902</td>\n",
       "      <td>1576</td>\n",
       "      <td>D-penicillamine</td>\n",
       "      <td>25873</td>\n",
       "      <td>F</td>\n",
       "      <td>N</td>\n",
       "      <td>N</td>\n",
       "      <td>Y</td>\n",
       "      <td>S</td>\n",
       "      <td>2.0</td>\n",
       "      <td>225.0</td>\n",
       "      <td>3.19</td>\n",
       "      <td>51.0</td>\n",
       "      <td>933.0</td>\n",
       "      <td>69.75</td>\n",
       "      <td>62.0</td>\n",
       "      <td>200.0</td>\n",
       "      <td>12.7</td>\n",
       "      <td>2.0</td>\n",
       "      <td>D</td>\n",
       "    </tr>\n",
       "    <tr>\n",
       "      <th>7903</th>\n",
       "      <td>7903</td>\n",
       "      <td>3584</td>\n",
       "      <td>D-penicillamine</td>\n",
       "      <td>22960</td>\n",
       "      <td>M</td>\n",
       "      <td>N</td>\n",
       "      <td>Y</td>\n",
       "      <td>N</td>\n",
       "      <td>N</td>\n",
       "      <td>0.7</td>\n",
       "      <td>248.0</td>\n",
       "      <td>2.75</td>\n",
       "      <td>32.0</td>\n",
       "      <td>1003.0</td>\n",
       "      <td>57.35</td>\n",
       "      <td>118.0</td>\n",
       "      <td>221.0</td>\n",
       "      <td>10.6</td>\n",
       "      <td>4.0</td>\n",
       "      <td>D</td>\n",
       "    </tr>\n",
       "    <tr>\n",
       "      <th>7904</th>\n",
       "      <td>7904</td>\n",
       "      <td>1978</td>\n",
       "      <td>D-penicillamine</td>\n",
       "      <td>19237</td>\n",
       "      <td>F</td>\n",
       "      <td>N</td>\n",
       "      <td>N</td>\n",
       "      <td>N</td>\n",
       "      <td>N</td>\n",
       "      <td>0.7</td>\n",
       "      <td>256.0</td>\n",
       "      <td>3.23</td>\n",
       "      <td>22.0</td>\n",
       "      <td>645.0</td>\n",
       "      <td>74.40</td>\n",
       "      <td>85.0</td>\n",
       "      <td>336.0</td>\n",
       "      <td>10.3</td>\n",
       "      <td>3.0</td>\n",
       "      <td>C</td>\n",
       "    </tr>\n",
       "  </tbody>\n",
       "</table>\n",
       "</div>"
      ],
      "text/plain": [
       "        id  N_Days             Drug    Age Sex Ascites Hepatomegaly Spiders  \\\n",
       "7902  7902    1576  D-penicillamine  25873   F       N            N       Y   \n",
       "7903  7903    3584  D-penicillamine  22960   M       N            Y       N   \n",
       "7904  7904    1978  D-penicillamine  19237   F       N            N       N   \n",
       "\n",
       "     Edema  Bilirubin  Cholesterol  Albumin  Copper  Alk_Phos   SGOT  \\\n",
       "7902     S        2.0        225.0     3.19    51.0     933.0  69.75   \n",
       "7903     N        0.7        248.0     2.75    32.0    1003.0  57.35   \n",
       "7904     N        0.7        256.0     3.23    22.0     645.0  74.40   \n",
       "\n",
       "      Tryglicerides  Platelets  Prothrombin  Stage Status  \n",
       "7902           62.0      200.0         12.7    2.0      D  \n",
       "7903          118.0      221.0         10.6    4.0      D  \n",
       "7904           85.0      336.0         10.3    3.0      C  "
      ]
     },
     "execution_count": 7,
     "metadata": {},
     "output_type": "execute_result"
    }
   ],
   "source": [
    "train_df.tail(3)"
   ]
  },
  {
   "cell_type": "code",
   "execution_count": 8,
   "id": "7a3a599c",
   "metadata": {
    "execution": {
     "iopub.execute_input": "2023-12-06T12:01:40.174733Z",
     "iopub.status.busy": "2023-12-06T12:01:40.174463Z",
     "iopub.status.idle": "2023-12-06T12:01:40.186855Z",
     "shell.execute_reply": "2023-12-06T12:01:40.185833Z"
    },
    "papermill": {
     "duration": 0.023474,
     "end_time": "2023-12-06T12:01:40.188758",
     "exception": false,
     "start_time": "2023-12-06T12:01:40.165284",
     "status": "completed"
    },
    "tags": []
   },
   "outputs": [
    {
     "name": "stdout",
     "output_type": "stream",
     "text": [
      "<class 'pandas.core.frame.DataFrame'>\n",
      "RangeIndex: 5271 entries, 0 to 5270\n",
      "Data columns (total 19 columns):\n",
      " #   Column         Non-Null Count  Dtype  \n",
      "---  ------         --------------  -----  \n",
      " 0   id             5271 non-null   int64  \n",
      " 1   N_Days         5271 non-null   int64  \n",
      " 2   Drug           5271 non-null   object \n",
      " 3   Age            5271 non-null   int64  \n",
      " 4   Sex            5271 non-null   object \n",
      " 5   Ascites        5271 non-null   object \n",
      " 6   Hepatomegaly   5271 non-null   object \n",
      " 7   Spiders        5271 non-null   object \n",
      " 8   Edema          5271 non-null   object \n",
      " 9   Bilirubin      5271 non-null   float64\n",
      " 10  Cholesterol    5271 non-null   float64\n",
      " 11  Albumin        5271 non-null   float64\n",
      " 12  Copper         5271 non-null   float64\n",
      " 13  Alk_Phos       5271 non-null   float64\n",
      " 14  SGOT           5271 non-null   float64\n",
      " 15  Tryglicerides  5271 non-null   float64\n",
      " 16  Platelets      5271 non-null   float64\n",
      " 17  Prothrombin    5271 non-null   float64\n",
      " 18  Stage          5271 non-null   float64\n",
      "dtypes: float64(10), int64(3), object(6)\n",
      "memory usage: 782.5+ KB\n"
     ]
    }
   ],
   "source": [
    "test_df.info()"
   ]
  },
  {
   "cell_type": "code",
   "execution_count": 9,
   "id": "3b570cbb",
   "metadata": {
    "execution": {
     "iopub.execute_input": "2023-12-06T12:01:40.206853Z",
     "iopub.status.busy": "2023-12-06T12:01:40.206587Z",
     "iopub.status.idle": "2023-12-06T12:01:40.225448Z",
     "shell.execute_reply": "2023-12-06T12:01:40.224634Z"
    },
    "papermill": {
     "duration": 0.029747,
     "end_time": "2023-12-06T12:01:40.227243",
     "exception": false,
     "start_time": "2023-12-06T12:01:40.197496",
     "status": "completed"
    },
    "tags": []
   },
   "outputs": [
    {
     "data": {
      "text/html": [
       "<div>\n",
       "<style scoped>\n",
       "    .dataframe tbody tr th:only-of-type {\n",
       "        vertical-align: middle;\n",
       "    }\n",
       "\n",
       "    .dataframe tbody tr th {\n",
       "        vertical-align: top;\n",
       "    }\n",
       "\n",
       "    .dataframe thead th {\n",
       "        text-align: right;\n",
       "    }\n",
       "</style>\n",
       "<table border=\"1\" class=\"dataframe\">\n",
       "  <thead>\n",
       "    <tr style=\"text-align: right;\">\n",
       "      <th></th>\n",
       "      <th>id</th>\n",
       "      <th>N_Days</th>\n",
       "      <th>Drug</th>\n",
       "      <th>Age</th>\n",
       "      <th>Sex</th>\n",
       "      <th>Ascites</th>\n",
       "      <th>Hepatomegaly</th>\n",
       "      <th>Spiders</th>\n",
       "      <th>Edema</th>\n",
       "      <th>Bilirubin</th>\n",
       "      <th>Cholesterol</th>\n",
       "      <th>Albumin</th>\n",
       "      <th>Copper</th>\n",
       "      <th>Alk_Phos</th>\n",
       "      <th>SGOT</th>\n",
       "      <th>Tryglicerides</th>\n",
       "      <th>Platelets</th>\n",
       "      <th>Prothrombin</th>\n",
       "      <th>Stage</th>\n",
       "    </tr>\n",
       "  </thead>\n",
       "  <tbody>\n",
       "    <tr>\n",
       "      <th>0</th>\n",
       "      <td>7905</td>\n",
       "      <td>3839</td>\n",
       "      <td>D-penicillamine</td>\n",
       "      <td>19724</td>\n",
       "      <td>F</td>\n",
       "      <td>N</td>\n",
       "      <td>Y</td>\n",
       "      <td>N</td>\n",
       "      <td>N</td>\n",
       "      <td>1.2</td>\n",
       "      <td>546.0</td>\n",
       "      <td>3.37</td>\n",
       "      <td>65.0</td>\n",
       "      <td>1636.0</td>\n",
       "      <td>151.90</td>\n",
       "      <td>90.0</td>\n",
       "      <td>430.0</td>\n",
       "      <td>10.6</td>\n",
       "      <td>2.0</td>\n",
       "    </tr>\n",
       "    <tr>\n",
       "      <th>1</th>\n",
       "      <td>7906</td>\n",
       "      <td>2468</td>\n",
       "      <td>D-penicillamine</td>\n",
       "      <td>14975</td>\n",
       "      <td>F</td>\n",
       "      <td>N</td>\n",
       "      <td>N</td>\n",
       "      <td>N</td>\n",
       "      <td>N</td>\n",
       "      <td>1.1</td>\n",
       "      <td>660.0</td>\n",
       "      <td>4.22</td>\n",
       "      <td>94.0</td>\n",
       "      <td>1257.0</td>\n",
       "      <td>151.90</td>\n",
       "      <td>155.0</td>\n",
       "      <td>227.0</td>\n",
       "      <td>10.0</td>\n",
       "      <td>2.0</td>\n",
       "    </tr>\n",
       "    <tr>\n",
       "      <th>2</th>\n",
       "      <td>7907</td>\n",
       "      <td>51</td>\n",
       "      <td>Placebo</td>\n",
       "      <td>13149</td>\n",
       "      <td>F</td>\n",
       "      <td>N</td>\n",
       "      <td>Y</td>\n",
       "      <td>N</td>\n",
       "      <td>Y</td>\n",
       "      <td>2.0</td>\n",
       "      <td>151.0</td>\n",
       "      <td>2.96</td>\n",
       "      <td>46.0</td>\n",
       "      <td>961.0</td>\n",
       "      <td>69.75</td>\n",
       "      <td>101.0</td>\n",
       "      <td>213.0</td>\n",
       "      <td>13.0</td>\n",
       "      <td>4.0</td>\n",
       "    </tr>\n",
       "  </tbody>\n",
       "</table>\n",
       "</div>"
      ],
      "text/plain": [
       "     id  N_Days             Drug    Age Sex Ascites Hepatomegaly Spiders  \\\n",
       "0  7905    3839  D-penicillamine  19724   F       N            Y       N   \n",
       "1  7906    2468  D-penicillamine  14975   F       N            N       N   \n",
       "2  7907      51          Placebo  13149   F       N            Y       N   \n",
       "\n",
       "  Edema  Bilirubin  Cholesterol  Albumin  Copper  Alk_Phos    SGOT  \\\n",
       "0     N        1.2        546.0     3.37    65.0    1636.0  151.90   \n",
       "1     N        1.1        660.0     4.22    94.0    1257.0  151.90   \n",
       "2     Y        2.0        151.0     2.96    46.0     961.0   69.75   \n",
       "\n",
       "   Tryglicerides  Platelets  Prothrombin  Stage  \n",
       "0           90.0      430.0         10.6    2.0  \n",
       "1          155.0      227.0         10.0    2.0  \n",
       "2          101.0      213.0         13.0    4.0  "
      ]
     },
     "execution_count": 9,
     "metadata": {},
     "output_type": "execute_result"
    }
   ],
   "source": [
    "test_df.head(3)"
   ]
  },
  {
   "cell_type": "code",
   "execution_count": 10,
   "id": "5a1a2796",
   "metadata": {
    "execution": {
     "iopub.execute_input": "2023-12-06T12:01:40.245587Z",
     "iopub.status.busy": "2023-12-06T12:01:40.245329Z",
     "iopub.status.idle": "2023-12-06T12:01:40.263987Z",
     "shell.execute_reply": "2023-12-06T12:01:40.263108Z"
    },
    "papermill": {
     "duration": 0.029804,
     "end_time": "2023-12-06T12:01:40.265855",
     "exception": false,
     "start_time": "2023-12-06T12:01:40.236051",
     "status": "completed"
    },
    "tags": []
   },
   "outputs": [
    {
     "data": {
      "text/html": [
       "<div>\n",
       "<style scoped>\n",
       "    .dataframe tbody tr th:only-of-type {\n",
       "        vertical-align: middle;\n",
       "    }\n",
       "\n",
       "    .dataframe tbody tr th {\n",
       "        vertical-align: top;\n",
       "    }\n",
       "\n",
       "    .dataframe thead th {\n",
       "        text-align: right;\n",
       "    }\n",
       "</style>\n",
       "<table border=\"1\" class=\"dataframe\">\n",
       "  <thead>\n",
       "    <tr style=\"text-align: right;\">\n",
       "      <th></th>\n",
       "      <th>id</th>\n",
       "      <th>N_Days</th>\n",
       "      <th>Drug</th>\n",
       "      <th>Age</th>\n",
       "      <th>Sex</th>\n",
       "      <th>Ascites</th>\n",
       "      <th>Hepatomegaly</th>\n",
       "      <th>Spiders</th>\n",
       "      <th>Edema</th>\n",
       "      <th>Bilirubin</th>\n",
       "      <th>Cholesterol</th>\n",
       "      <th>Albumin</th>\n",
       "      <th>Copper</th>\n",
       "      <th>Alk_Phos</th>\n",
       "      <th>SGOT</th>\n",
       "      <th>Tryglicerides</th>\n",
       "      <th>Platelets</th>\n",
       "      <th>Prothrombin</th>\n",
       "      <th>Stage</th>\n",
       "    </tr>\n",
       "  </thead>\n",
       "  <tbody>\n",
       "    <tr>\n",
       "      <th>5268</th>\n",
       "      <td>13173</td>\n",
       "      <td>3707</td>\n",
       "      <td>D-penicillamine</td>\n",
       "      <td>16990</td>\n",
       "      <td>F</td>\n",
       "      <td>N</td>\n",
       "      <td>Y</td>\n",
       "      <td>N</td>\n",
       "      <td>N</td>\n",
       "      <td>0.8</td>\n",
       "      <td>315.0</td>\n",
       "      <td>4.09</td>\n",
       "      <td>13.0</td>\n",
       "      <td>1637.0</td>\n",
       "      <td>170.5</td>\n",
       "      <td>70.0</td>\n",
       "      <td>426.0</td>\n",
       "      <td>10.9</td>\n",
       "      <td>3.0</td>\n",
       "    </tr>\n",
       "    <tr>\n",
       "      <th>5269</th>\n",
       "      <td>13174</td>\n",
       "      <td>1216</td>\n",
       "      <td>Placebo</td>\n",
       "      <td>11773</td>\n",
       "      <td>F</td>\n",
       "      <td>N</td>\n",
       "      <td>N</td>\n",
       "      <td>N</td>\n",
       "      <td>N</td>\n",
       "      <td>0.7</td>\n",
       "      <td>329.0</td>\n",
       "      <td>3.80</td>\n",
       "      <td>52.0</td>\n",
       "      <td>678.0</td>\n",
       "      <td>57.0</td>\n",
       "      <td>126.0</td>\n",
       "      <td>306.0</td>\n",
       "      <td>10.2</td>\n",
       "      <td>1.0</td>\n",
       "    </tr>\n",
       "    <tr>\n",
       "      <th>5270</th>\n",
       "      <td>13175</td>\n",
       "      <td>2272</td>\n",
       "      <td>D-penicillamine</td>\n",
       "      <td>21600</td>\n",
       "      <td>F</td>\n",
       "      <td>N</td>\n",
       "      <td>N</td>\n",
       "      <td>N</td>\n",
       "      <td>N</td>\n",
       "      <td>2.0</td>\n",
       "      <td>232.0</td>\n",
       "      <td>3.42</td>\n",
       "      <td>18.0</td>\n",
       "      <td>1636.0</td>\n",
       "      <td>170.5</td>\n",
       "      <td>83.0</td>\n",
       "      <td>213.0</td>\n",
       "      <td>13.6</td>\n",
       "      <td>2.0</td>\n",
       "    </tr>\n",
       "  </tbody>\n",
       "</table>\n",
       "</div>"
      ],
      "text/plain": [
       "         id  N_Days             Drug    Age Sex Ascites Hepatomegaly Spiders  \\\n",
       "5268  13173    3707  D-penicillamine  16990   F       N            Y       N   \n",
       "5269  13174    1216          Placebo  11773   F       N            N       N   \n",
       "5270  13175    2272  D-penicillamine  21600   F       N            N       N   \n",
       "\n",
       "     Edema  Bilirubin  Cholesterol  Albumin  Copper  Alk_Phos   SGOT  \\\n",
       "5268     N        0.8        315.0     4.09    13.0    1637.0  170.5   \n",
       "5269     N        0.7        329.0     3.80    52.0     678.0   57.0   \n",
       "5270     N        2.0        232.0     3.42    18.0    1636.0  170.5   \n",
       "\n",
       "      Tryglicerides  Platelets  Prothrombin  Stage  \n",
       "5268           70.0      426.0         10.9    3.0  \n",
       "5269          126.0      306.0         10.2    1.0  \n",
       "5270           83.0      213.0         13.6    2.0  "
      ]
     },
     "execution_count": 10,
     "metadata": {},
     "output_type": "execute_result"
    }
   ],
   "source": [
    "test_df.tail(3)"
   ]
  },
  {
   "cell_type": "markdown",
   "id": "9b7213bb",
   "metadata": {
    "papermill": {
     "duration": 0.008747,
     "end_time": "2023-12-06T12:01:40.283385",
     "exception": false,
     "start_time": "2023-12-06T12:01:40.274638",
     "status": "completed"
    },
    "tags": []
   },
   "source": [
    "### Feature Engineering and Preprocessing:\n",
    "\n",
    "We perform feature engineering and preprocessing steps, such as dropping unnecessary columns, and converting categorical variables to numerical using one-hot encoding."
   ]
  },
  {
   "cell_type": "code",
   "execution_count": 11,
   "id": "8ff2b0f5",
   "metadata": {
    "execution": {
     "iopub.execute_input": "2023-12-06T12:01:40.301968Z",
     "iopub.status.busy": "2023-12-06T12:01:40.301710Z",
     "iopub.status.idle": "2023-12-06T12:01:40.305404Z",
     "shell.execute_reply": "2023-12-06T12:01:40.304581Z"
    },
    "papermill": {
     "duration": 0.015016,
     "end_time": "2023-12-06T12:01:40.307159",
     "exception": false,
     "start_time": "2023-12-06T12:01:40.292143",
     "status": "completed"
    },
    "tags": []
   },
   "outputs": [],
   "source": [
    "#Feature engineering and preprocessing:\n",
    "cols_to_drop = ['id', 'N_Days']"
   ]
  },
  {
   "cell_type": "code",
   "execution_count": 12,
   "id": "7890dc99",
   "metadata": {
    "execution": {
     "iopub.execute_input": "2023-12-06T12:01:40.326118Z",
     "iopub.status.busy": "2023-12-06T12:01:40.325853Z",
     "iopub.status.idle": "2023-12-06T12:01:40.335263Z",
     "shell.execute_reply": "2023-12-06T12:01:40.334512Z"
    },
    "papermill": {
     "duration": 0.020892,
     "end_time": "2023-12-06T12:01:40.337141",
     "exception": false,
     "start_time": "2023-12-06T12:01:40.316249",
     "status": "completed"
    },
    "tags": []
   },
   "outputs": [],
   "source": [
    "#Droping the unnecessary columns:\n",
    "train_df = train_df.drop(cols_to_drop, axis=1)\n",
    "test_df = test_df.drop(cols_to_drop, axis=1)"
   ]
  },
  {
   "cell_type": "code",
   "execution_count": 13,
   "id": "e92df2e2",
   "metadata": {
    "execution": {
     "iopub.execute_input": "2023-12-06T12:01:40.356414Z",
     "iopub.status.busy": "2023-12-06T12:01:40.356144Z",
     "iopub.status.idle": "2023-12-06T12:01:40.380540Z",
     "shell.execute_reply": "2023-12-06T12:01:40.379779Z"
    },
    "papermill": {
     "duration": 0.035937,
     "end_time": "2023-12-06T12:01:40.382476",
     "exception": false,
     "start_time": "2023-12-06T12:01:40.346539",
     "status": "completed"
    },
    "tags": []
   },
   "outputs": [],
   "source": [
    "#Convert categorical variables to numerical using one-hot encoding:\n",
    "train_df = pd.get_dummies(train_df, columns=['Drug', 'Sex', 'Ascites', 'Hepatomegaly', 'Spiders', 'Edema'])\n",
    "test_df = pd.get_dummies(test_df, columns=['Drug', 'Sex', 'Ascites', 'Hepatomegaly', 'Spiders', 'Edema'])"
   ]
  },
  {
   "cell_type": "code",
   "execution_count": 14,
   "id": "cc56c3f2",
   "metadata": {
    "execution": {
     "iopub.execute_input": "2023-12-06T12:01:40.401062Z",
     "iopub.status.busy": "2023-12-06T12:01:40.400805Z",
     "iopub.status.idle": "2023-12-06T12:01:40.405920Z",
     "shell.execute_reply": "2023-12-06T12:01:40.405218Z"
    },
    "papermill": {
     "duration": 0.016378,
     "end_time": "2023-12-06T12:01:40.407691",
     "exception": false,
     "start_time": "2023-12-06T12:01:40.391313",
     "status": "completed"
    },
    "tags": []
   },
   "outputs": [],
   "source": [
    "#Separating the data for training and validation:\n",
    "X_train = train_df.drop('Status', axis=1)\n",
    "y_train = train_df['Status']"
   ]
  },
  {
   "cell_type": "markdown",
   "id": "3a7a39f8",
   "metadata": {
    "papermill": {
     "duration": 0.008571,
     "end_time": "2023-12-06T12:01:40.426030",
     "exception": false,
     "start_time": "2023-12-06T12:01:40.417459",
     "status": "completed"
    },
    "tags": []
   },
   "source": [
    "### Split Data for Training and Validation:\n",
    "\n",
    "The training data is split into training and validation sets to evaluate the model's performance."
   ]
  },
  {
   "cell_type": "code",
   "execution_count": 15,
   "id": "1df9e7fd",
   "metadata": {
    "execution": {
     "iopub.execute_input": "2023-12-06T12:01:40.445615Z",
     "iopub.status.busy": "2023-12-06T12:01:40.444978Z",
     "iopub.status.idle": "2023-12-06T12:01:40.451626Z",
     "shell.execute_reply": "2023-12-06T12:01:40.450944Z"
    },
    "papermill": {
     "duration": 0.01834,
     "end_time": "2023-12-06T12:01:40.453502",
     "exception": false,
     "start_time": "2023-12-06T12:01:40.435162",
     "status": "completed"
    },
    "tags": []
   },
   "outputs": [],
   "source": [
    "#Spliting the data for training and validation:\n",
    "X_train, X_val, y_train, y_val = train_test_split(X_train, y_train, test_size=0.2, random_state=42 )"
   ]
  },
  {
   "cell_type": "code",
   "execution_count": 16,
   "id": "94bc91c1",
   "metadata": {
    "execution": {
     "iopub.execute_input": "2023-12-06T12:01:40.472007Z",
     "iopub.status.busy": "2023-12-06T12:01:40.471760Z",
     "iopub.status.idle": "2023-12-06T12:01:41.559015Z",
     "shell.execute_reply": "2023-12-06T12:01:41.557984Z"
    },
    "papermill": {
     "duration": 1.098962,
     "end_time": "2023-12-06T12:01:41.561252",
     "exception": false,
     "start_time": "2023-12-06T12:01:40.462290",
     "status": "completed"
    },
    "tags": []
   },
   "outputs": [
    {
     "data": {
      "text/html": [
       "<style>#sk-container-id-1 {color: black;background-color: white;}#sk-container-id-1 pre{padding: 0;}#sk-container-id-1 div.sk-toggleable {background-color: white;}#sk-container-id-1 label.sk-toggleable__label {cursor: pointer;display: block;width: 100%;margin-bottom: 0;padding: 0.3em;box-sizing: border-box;text-align: center;}#sk-container-id-1 label.sk-toggleable__label-arrow:before {content: \"▸\";float: left;margin-right: 0.25em;color: #696969;}#sk-container-id-1 label.sk-toggleable__label-arrow:hover:before {color: black;}#sk-container-id-1 div.sk-estimator:hover label.sk-toggleable__label-arrow:before {color: black;}#sk-container-id-1 div.sk-toggleable__content {max-height: 0;max-width: 0;overflow: hidden;text-align: left;background-color: #f0f8ff;}#sk-container-id-1 div.sk-toggleable__content pre {margin: 0.2em;color: black;border-radius: 0.25em;background-color: #f0f8ff;}#sk-container-id-1 input.sk-toggleable__control:checked~div.sk-toggleable__content {max-height: 200px;max-width: 100%;overflow: auto;}#sk-container-id-1 input.sk-toggleable__control:checked~label.sk-toggleable__label-arrow:before {content: \"▾\";}#sk-container-id-1 div.sk-estimator input.sk-toggleable__control:checked~label.sk-toggleable__label {background-color: #d4ebff;}#sk-container-id-1 div.sk-label input.sk-toggleable__control:checked~label.sk-toggleable__label {background-color: #d4ebff;}#sk-container-id-1 input.sk-hidden--visually {border: 0;clip: rect(1px 1px 1px 1px);clip: rect(1px, 1px, 1px, 1px);height: 1px;margin: -1px;overflow: hidden;padding: 0;position: absolute;width: 1px;}#sk-container-id-1 div.sk-estimator {font-family: monospace;background-color: #f0f8ff;border: 1px dotted black;border-radius: 0.25em;box-sizing: border-box;margin-bottom: 0.5em;}#sk-container-id-1 div.sk-estimator:hover {background-color: #d4ebff;}#sk-container-id-1 div.sk-parallel-item::after {content: \"\";width: 100%;border-bottom: 1px solid gray;flex-grow: 1;}#sk-container-id-1 div.sk-label:hover label.sk-toggleable__label {background-color: #d4ebff;}#sk-container-id-1 div.sk-serial::before {content: \"\";position: absolute;border-left: 1px solid gray;box-sizing: border-box;top: 0;bottom: 0;left: 50%;z-index: 0;}#sk-container-id-1 div.sk-serial {display: flex;flex-direction: column;align-items: center;background-color: white;padding-right: 0.2em;padding-left: 0.2em;position: relative;}#sk-container-id-1 div.sk-item {position: relative;z-index: 1;}#sk-container-id-1 div.sk-parallel {display: flex;align-items: stretch;justify-content: center;background-color: white;position: relative;}#sk-container-id-1 div.sk-item::before, #sk-container-id-1 div.sk-parallel-item::before {content: \"\";position: absolute;border-left: 1px solid gray;box-sizing: border-box;top: 0;bottom: 0;left: 50%;z-index: -1;}#sk-container-id-1 div.sk-parallel-item {display: flex;flex-direction: column;z-index: 1;position: relative;background-color: white;}#sk-container-id-1 div.sk-parallel-item:first-child::after {align-self: flex-end;width: 50%;}#sk-container-id-1 div.sk-parallel-item:last-child::after {align-self: flex-start;width: 50%;}#sk-container-id-1 div.sk-parallel-item:only-child::after {width: 0;}#sk-container-id-1 div.sk-dashed-wrapped {border: 1px dashed gray;margin: 0 0.4em 0.5em 0.4em;box-sizing: border-box;padding-bottom: 0.4em;background-color: white;}#sk-container-id-1 div.sk-label label {font-family: monospace;font-weight: bold;display: inline-block;line-height: 1.2em;}#sk-container-id-1 div.sk-label-container {text-align: center;}#sk-container-id-1 div.sk-container {/* jupyter's `normalize.less` sets `[hidden] { display: none; }` but bootstrap.min.css set `[hidden] { display: none !important; }` so we also need the `!important` here to be able to override the default hidden behavior on the sphinx rendered scikit-learn.org. See: https://github.com/scikit-learn/scikit-learn/issues/21755 */display: inline-block !important;position: relative;}#sk-container-id-1 div.sk-text-repr-fallback {display: none;}</style><div id=\"sk-container-id-1\" class=\"sk-top-container\"><div class=\"sk-text-repr-fallback\"><pre>RandomForestClassifier(random_state=42)</pre><b>In a Jupyter environment, please rerun this cell to show the HTML representation or trust the notebook. <br />On GitHub, the HTML representation is unable to render, please try loading this page with nbviewer.org.</b></div><div class=\"sk-container\" hidden><div class=\"sk-item\"><div class=\"sk-estimator sk-toggleable\"><input class=\"sk-toggleable__control sk-hidden--visually\" id=\"sk-estimator-id-1\" type=\"checkbox\" checked><label for=\"sk-estimator-id-1\" class=\"sk-toggleable__label sk-toggleable__label-arrow\">RandomForestClassifier</label><div class=\"sk-toggleable__content\"><pre>RandomForestClassifier(random_state=42)</pre></div></div></div></div></div>"
      ],
      "text/plain": [
       "RandomForestClassifier(random_state=42)"
      ]
     },
     "execution_count": 16,
     "metadata": {},
     "output_type": "execute_result"
    }
   ],
   "source": [
    "import warnings\n",
    "\n",
    "# Suppress FutureWarnings\n",
    "warnings.simplefilter(action='ignore', category=FutureWarning)\n",
    "\n",
    "# Initialize and train the model\n",
    "model = RandomForestClassifier(random_state=42)\n",
    "model.fit(X_train, y_train)"
   ]
  },
  {
   "cell_type": "markdown",
   "id": "85ce6b94",
   "metadata": {
    "papermill": {
     "duration": 0.009045,
     "end_time": "2023-12-06T12:01:41.579924",
     "exception": false,
     "start_time": "2023-12-06T12:01:41.570879",
     "status": "completed"
    },
    "tags": []
   },
   "source": [
    "### Make Predictions on the Validation Set:\n",
    "\n",
    "Predictions are made on the validation set, and probabilities are obtained for each class."
   ]
  },
  {
   "cell_type": "code",
   "execution_count": 17,
   "id": "e321fc2f",
   "metadata": {
    "execution": {
     "iopub.execute_input": "2023-12-06T12:01:41.600224Z",
     "iopub.status.busy": "2023-12-06T12:01:41.599869Z",
     "iopub.status.idle": "2023-12-06T12:01:41.649115Z",
     "shell.execute_reply": "2023-12-06T12:01:41.648438Z"
    },
    "papermill": {
     "duration": 0.061485,
     "end_time": "2023-12-06T12:01:41.650905",
     "exception": false,
     "start_time": "2023-12-06T12:01:41.589420",
     "status": "completed"
    },
    "tags": []
   },
   "outputs": [],
   "source": [
    "# Make predictions on the validation set\n",
    "y_pred = model.predict_proba(X_val)"
   ]
  },
  {
   "cell_type": "markdown",
   "id": "c45971d5",
   "metadata": {
    "papermill": {
     "duration": 0.008905,
     "end_time": "2023-12-06T12:01:41.668811",
     "exception": false,
     "start_time": "2023-12-06T12:01:41.659906",
     "status": "completed"
    },
    "tags": []
   },
   "source": [
    "### Evaluate the Model:\n",
    "\n",
    "The model's performance is evaluated using the log loss metric on the validation set.\n",
    "\n"
   ]
  },
  {
   "cell_type": "code",
   "execution_count": 18,
   "id": "519b8c73",
   "metadata": {
    "execution": {
     "iopub.execute_input": "2023-12-06T12:01:41.688657Z",
     "iopub.status.busy": "2023-12-06T12:01:41.688405Z",
     "iopub.status.idle": "2023-12-06T12:01:41.704229Z",
     "shell.execute_reply": "2023-12-06T12:01:41.703241Z"
    },
    "papermill": {
     "duration": 0.027723,
     "end_time": "2023-12-06T12:01:41.706162",
     "exception": false,
     "start_time": "2023-12-06T12:01:41.678439",
     "status": "completed"
    },
    "tags": []
   },
   "outputs": [
    {
     "name": "stdout",
     "output_type": "stream",
     "text": [
      "Log Loss Score on Validation Set: 0.541456371188012\n"
     ]
    }
   ],
   "source": [
    "# Evaluate the model\n",
    "log_loss_score = log_loss(y_val, y_pred)\n",
    "print(f'Log Loss Score on Validation Set: {log_loss_score}')\n"
   ]
  },
  {
   "cell_type": "markdown",
   "id": "fed5c513",
   "metadata": {
    "papermill": {
     "duration": 0.009106,
     "end_time": "2023-12-06T12:01:41.724528",
     "exception": false,
     "start_time": "2023-12-06T12:01:41.715422",
     "status": "completed"
    },
    "tags": []
   },
   "source": [
    "### Making the Predictions on the Test Set:\n",
    "\n",
    "The trained model is used to make predictions on the test set.\n"
   ]
  },
  {
   "cell_type": "code",
   "execution_count": 19,
   "id": "af19b528",
   "metadata": {
    "execution": {
     "iopub.execute_input": "2023-12-06T12:01:41.744320Z",
     "iopub.status.busy": "2023-12-06T12:01:41.743735Z",
     "iopub.status.idle": "2023-12-06T12:01:41.855699Z",
     "shell.execute_reply": "2023-12-06T12:01:41.854949Z"
    },
    "papermill": {
     "duration": 0.124023,
     "end_time": "2023-12-06T12:01:41.857720",
     "exception": false,
     "start_time": "2023-12-06T12:01:41.733697",
     "status": "completed"
    },
    "tags": []
   },
   "outputs": [],
   "source": [
    "# Now, use the trained model to make predictions on the test set\n",
    "test_predictions = model.predict_proba(test_df)"
   ]
  },
  {
   "cell_type": "markdown",
   "id": "6813c3f0",
   "metadata": {
    "papermill": {
     "duration": 0.009055,
     "end_time": "2023-12-06T12:01:41.876218",
     "exception": false,
     "start_time": "2023-12-06T12:01:41.867163",
     "status": "completed"
    },
    "tags": []
   },
   "source": [
    "### Creating the Submission File:"
   ]
  },
  {
   "cell_type": "code",
   "execution_count": 20,
   "id": "fa419d5b",
   "metadata": {
    "execution": {
     "iopub.execute_input": "2023-12-06T12:01:41.896124Z",
     "iopub.status.busy": "2023-12-06T12:01:41.895853Z",
     "iopub.status.idle": "2023-12-06T12:01:41.928925Z",
     "shell.execute_reply": "2023-12-06T12:01:41.928194Z"
    },
    "papermill": {
     "duration": 0.045284,
     "end_time": "2023-12-06T12:01:41.931003",
     "exception": false,
     "start_time": "2023-12-06T12:01:41.885719",
     "status": "completed"
    },
    "tags": []
   },
   "outputs": [],
   "source": [
    "# Create the submission file\n",
    "submission_df = pd.DataFrame(test_predictions, columns=['Status_C', 'Status_CL', 'Status_D'])\n",
    "\n",
    "# Ensure 'id' is present in the test_df columns\n",
    "if 'id' in test_df.columns:\n",
    "    submission_df.insert(0, 'id', test_df['id'])\n",
    "else:\n",
    "    # If 'id' is not present, create a new sequence for submission\n",
    "    submission_df.insert(0, 'id', range(7905, 7905 + len(test_df)))\n",
    "\n",
    "# Save the submission file\n",
    "submission_df.to_csv('/kaggle/working/submission.csv', index=False)\n"
   ]
  },
  {
   "cell_type": "markdown",
   "id": "d19eb9c1",
   "metadata": {
    "papermill": {
     "duration": 0.009964,
     "end_time": "2023-12-06T12:01:41.951094",
     "exception": false,
     "start_time": "2023-12-06T12:01:41.941130",
     "status": "completed"
    },
    "tags": []
   },
   "source": [
    "The final step involves creating a submission file in the required format for Kaggle, including 'id', 'Status_C', 'Status_CL', and 'Status_D' columns.\n",
    "\n",
    "This model employs a Random Forest Classifier to predict the outcomes of patients with cirrhosis using a multi-class approach. The preprocessing steps ensure the data is in a suitable format for training, and the model's performance is assessed on a validation set before making predictions on the test set for submission to Kaggle."
   ]
  },
  {
   "cell_type": "code",
   "execution_count": null,
   "id": "47be7c55",
   "metadata": {
    "papermill": {
     "duration": 0.009422,
     "end_time": "2023-12-06T12:01:41.969877",
     "exception": false,
     "start_time": "2023-12-06T12:01:41.960455",
     "status": "completed"
    },
    "tags": []
   },
   "outputs": [],
   "source": []
  }
 ],
 "metadata": {
  "kaggle": {
   "accelerator": "nvidiaTeslaT4",
   "dataSources": [
    {
     "databundleVersionId": 7000181,
     "sourceId": 60893,
     "sourceType": "competition"
    }
   ],
   "dockerImageVersionId": 30588,
   "isGpuEnabled": true,
   "isInternetEnabled": true,
   "language": "python",
   "sourceType": "notebook"
  },
  "kernelspec": {
   "display_name": "Python 3",
   "language": "python",
   "name": "python3"
  },
  "language_info": {
   "codemirror_mode": {
    "name": "ipython",
    "version": 3
   },
   "file_extension": ".py",
   "mimetype": "text/x-python",
   "name": "python",
   "nbconvert_exporter": "python",
   "pygments_lexer": "ipython3",
   "version": "3.10.12"
  },
  "papermill": {
   "default_parameters": {},
   "duration": 8.331227,
   "end_time": "2023-12-06T12:01:42.397609",
   "environment_variables": {},
   "exception": null,
   "input_path": "__notebook__.ipynb",
   "output_path": "__notebook__.ipynb",
   "parameters": {},
   "start_time": "2023-12-06T12:01:34.066382",
   "version": "2.4.0"
  }
 },
 "nbformat": 4,
 "nbformat_minor": 5
}
